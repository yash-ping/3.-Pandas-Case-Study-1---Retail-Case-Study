{
 "cells": [
  {
   "cell_type": "code",
   "execution_count": 1,
   "metadata": {},
   "outputs": [],
   "source": [
    "import pandas as pd\n",
    "import numpy as np\n",
    "import seaborn as sns\n",
    "import pandas_profiling as pp\n",
    "import datetime\n",
    "import matplotlib.pyplot as plt\n",
    "%matplotlib inline\n",
    "plt.rcParams['axes.grid'] = True\n",
    "\n",
    "import pandas_profiling   #need to install using anaconda prompt (pip install pandas_profiling)\n",
    "import scipy.stats as stats\n",
    "\n",
    "from patsy import dmatrices\n",
    "from statsmodels.stats.outliers_influence import variance_inflation_factor\n",
    "import statsmodels.formula.api as smf\n",
    "\n",
    "from datetime import datetime"
   ]
  },
  {
   "cell_type": "code",
   "execution_count": 2,
   "metadata": {},
   "outputs": [],
   "source": [
    "d1=pd.read_csv('C:\\\\Users\\\\Yash\\\\Desktop\\\\STATS\\\\CASE STUDY FOR PANDAS\\\\3. Pandas Case Study 1 - Retail Case Study\\\\Customer.csv')\n",
    "d2=pd.read_csv('C:\\\\Users\\\\Yash\\\\Desktop\\\\STATS\\\\CASE STUDY FOR PANDAS\\\\3. Pandas Case Study 1 - Retail Case Study\\\\Transactions.csv')\n",
    "d3=pd.read_csv('C:\\\\Users\\\\Yash\\\\Desktop\\\\STATS\\\\CASE STUDY FOR PANDAS\\\\3. Pandas Case Study 1 - Retail Case Study\\\\prod_cat_info.csv')\n",
    "\n"
   ]
  },
  {
   "cell_type": "code",
   "execution_count": 3,
   "metadata": {},
   "outputs": [],
   "source": [
    "d4 = pd.merge(left = d1,right = d2,left_on = 'customer_Id',right_on = 'cust_id',how = 'inner',indicator = True)"
   ]
  },
  {
   "cell_type": "code",
   "execution_count": 4,
   "metadata": {},
   "outputs": [],
   "source": [
    "d5 = pd.merge(left = d4,right = d3,left_on = 'prod_cat_code',right_on = 'prod_cat_code',how = 'inner')"
   ]
  },
  {
   "cell_type": "code",
   "execution_count": 5,
   "metadata": {},
   "outputs": [
    {
     "data": {
      "text/html": [
       "<div>\n",
       "<style scoped>\n",
       "    .dataframe tbody tr th:only-of-type {\n",
       "        vertical-align: middle;\n",
       "    }\n",
       "\n",
       "    .dataframe tbody tr th {\n",
       "        vertical-align: top;\n",
       "    }\n",
       "\n",
       "    .dataframe thead th {\n",
       "        text-align: right;\n",
       "    }\n",
       "</style>\n",
       "<table border=\"1\" class=\"dataframe\">\n",
       "  <thead>\n",
       "    <tr style=\"text-align: right;\">\n",
       "      <th></th>\n",
       "      <th>customer_Id</th>\n",
       "      <th>DOB</th>\n",
       "      <th>Gender</th>\n",
       "      <th>city_code</th>\n",
       "      <th>transaction_id</th>\n",
       "      <th>cust_id</th>\n",
       "      <th>tran_date</th>\n",
       "      <th>prod_subcat_code</th>\n",
       "      <th>prod_cat_code</th>\n",
       "      <th>Qty</th>\n",
       "      <th>Rate</th>\n",
       "      <th>Tax</th>\n",
       "      <th>total_amt</th>\n",
       "      <th>Store_type</th>\n",
       "      <th>_merge</th>\n",
       "      <th>prod_cat</th>\n",
       "      <th>prod_sub_cat_code</th>\n",
       "      <th>prod_subcat</th>\n",
       "    </tr>\n",
       "  </thead>\n",
       "  <tbody>\n",
       "    <tr>\n",
       "      <th>0</th>\n",
       "      <td>268408</td>\n",
       "      <td>02-01-1970</td>\n",
       "      <td>M</td>\n",
       "      <td>4.0</td>\n",
       "      <td>87243835584</td>\n",
       "      <td>268408</td>\n",
       "      <td>13-01-2014</td>\n",
       "      <td>7</td>\n",
       "      <td>5</td>\n",
       "      <td>5</td>\n",
       "      <td>187</td>\n",
       "      <td>98.175</td>\n",
       "      <td>1033.175</td>\n",
       "      <td>TeleShop</td>\n",
       "      <td>both</td>\n",
       "      <td>Books</td>\n",
       "      <td>7</td>\n",
       "      <td>Fiction</td>\n",
       "    </tr>\n",
       "    <tr>\n",
       "      <th>1</th>\n",
       "      <td>268408</td>\n",
       "      <td>02-01-1970</td>\n",
       "      <td>M</td>\n",
       "      <td>4.0</td>\n",
       "      <td>87243835584</td>\n",
       "      <td>268408</td>\n",
       "      <td>13-01-2014</td>\n",
       "      <td>7</td>\n",
       "      <td>5</td>\n",
       "      <td>5</td>\n",
       "      <td>187</td>\n",
       "      <td>98.175</td>\n",
       "      <td>1033.175</td>\n",
       "      <td>TeleShop</td>\n",
       "      <td>both</td>\n",
       "      <td>Books</td>\n",
       "      <td>12</td>\n",
       "      <td>Academic</td>\n",
       "    </tr>\n",
       "    <tr>\n",
       "      <th>2</th>\n",
       "      <td>268408</td>\n",
       "      <td>02-01-1970</td>\n",
       "      <td>M</td>\n",
       "      <td>4.0</td>\n",
       "      <td>87243835584</td>\n",
       "      <td>268408</td>\n",
       "      <td>13-01-2014</td>\n",
       "      <td>7</td>\n",
       "      <td>5</td>\n",
       "      <td>5</td>\n",
       "      <td>187</td>\n",
       "      <td>98.175</td>\n",
       "      <td>1033.175</td>\n",
       "      <td>TeleShop</td>\n",
       "      <td>both</td>\n",
       "      <td>Books</td>\n",
       "      <td>10</td>\n",
       "      <td>Non-Fiction</td>\n",
       "    </tr>\n",
       "    <tr>\n",
       "      <th>3</th>\n",
       "      <td>268408</td>\n",
       "      <td>02-01-1970</td>\n",
       "      <td>M</td>\n",
       "      <td>4.0</td>\n",
       "      <td>87243835584</td>\n",
       "      <td>268408</td>\n",
       "      <td>13-01-2014</td>\n",
       "      <td>7</td>\n",
       "      <td>5</td>\n",
       "      <td>5</td>\n",
       "      <td>187</td>\n",
       "      <td>98.175</td>\n",
       "      <td>1033.175</td>\n",
       "      <td>TeleShop</td>\n",
       "      <td>both</td>\n",
       "      <td>Books</td>\n",
       "      <td>11</td>\n",
       "      <td>Children</td>\n",
       "    </tr>\n",
       "    <tr>\n",
       "      <th>4</th>\n",
       "      <td>268408</td>\n",
       "      <td>02-01-1970</td>\n",
       "      <td>M</td>\n",
       "      <td>4.0</td>\n",
       "      <td>87243835584</td>\n",
       "      <td>268408</td>\n",
       "      <td>13-01-2014</td>\n",
       "      <td>7</td>\n",
       "      <td>5</td>\n",
       "      <td>5</td>\n",
       "      <td>187</td>\n",
       "      <td>98.175</td>\n",
       "      <td>1033.175</td>\n",
       "      <td>TeleShop</td>\n",
       "      <td>both</td>\n",
       "      <td>Books</td>\n",
       "      <td>3</td>\n",
       "      <td>Comics</td>\n",
       "    </tr>\n",
       "  </tbody>\n",
       "</table>\n",
       "</div>"
      ],
      "text/plain": [
       "   customer_Id         DOB Gender  city_code  transaction_id  cust_id  \\\n",
       "0       268408  02-01-1970      M        4.0     87243835584   268408   \n",
       "1       268408  02-01-1970      M        4.0     87243835584   268408   \n",
       "2       268408  02-01-1970      M        4.0     87243835584   268408   \n",
       "3       268408  02-01-1970      M        4.0     87243835584   268408   \n",
       "4       268408  02-01-1970      M        4.0     87243835584   268408   \n",
       "\n",
       "    tran_date  prod_subcat_code  prod_cat_code  Qty  Rate     Tax  total_amt  \\\n",
       "0  13-01-2014                 7              5    5   187  98.175   1033.175   \n",
       "1  13-01-2014                 7              5    5   187  98.175   1033.175   \n",
       "2  13-01-2014                 7              5    5   187  98.175   1033.175   \n",
       "3  13-01-2014                 7              5    5   187  98.175   1033.175   \n",
       "4  13-01-2014                 7              5    5   187  98.175   1033.175   \n",
       "\n",
       "  Store_type _merge prod_cat  prod_sub_cat_code  prod_subcat  \n",
       "0   TeleShop   both    Books                  7      Fiction  \n",
       "1   TeleShop   both    Books                 12     Academic  \n",
       "2   TeleShop   both    Books                 10  Non-Fiction  \n",
       "3   TeleShop   both    Books                 11     Children  \n",
       "4   TeleShop   both    Books                  3       Comics  "
      ]
     },
     "execution_count": 5,
     "metadata": {},
     "output_type": "execute_result"
    }
   ],
   "source": [
    "d5.head()"
   ]
  },
  {
   "cell_type": "code",
   "execution_count": 6,
   "metadata": {},
   "outputs": [
    {
     "data": {
      "text/plain": [
       "(99293, 18)"
      ]
     },
     "execution_count": 6,
     "metadata": {},
     "output_type": "execute_result"
    }
   ],
   "source": [
    "d5.shape"
   ]
  },
  {
   "cell_type": "code",
   "execution_count": 7,
   "metadata": {},
   "outputs": [
    {
     "data": {
      "text/plain": [
       "Index(['customer_Id', 'city_code', 'transaction_id', 'cust_id',\n",
       "       'prod_subcat_code', 'prod_cat_code', 'Qty', 'Rate', 'Tax', 'total_amt',\n",
       "       'prod_sub_cat_code'],\n",
       "      dtype='object')"
      ]
     },
     "execution_count": 7,
     "metadata": {},
     "output_type": "execute_result"
    }
   ],
   "source": [
    "d5.select_dtypes(include=['int64','float64']).columns"
   ]
  },
  {
   "cell_type": "code",
   "execution_count": 8,
   "metadata": {},
   "outputs": [
    {
     "data": {
      "text/plain": [
       "Index(['DOB', 'Gender', 'tran_date', 'Store_type', 'prod_cat', 'prod_subcat'], dtype='object')"
      ]
     },
     "execution_count": 8,
     "metadata": {},
     "output_type": "execute_result"
    }
   ],
   "source": [
    "d5.select_dtypes(include=['object']).columns"
   ]
  },
  {
   "cell_type": "code",
   "execution_count": 9,
   "metadata": {},
   "outputs": [],
   "source": [
    "#Top/Bottom 10 observations"
   ]
  },
  {
   "cell_type": "code",
   "execution_count": 10,
   "metadata": {},
   "outputs": [
    {
     "name": "stdout",
     "output_type": "stream",
     "text": [
      "<class 'pandas.core.frame.DataFrame'>\n",
      "Int64Index: 99293 entries, 0 to 99292\n",
      "Data columns (total 18 columns):\n",
      " #   Column             Non-Null Count  Dtype   \n",
      "---  ------             --------------  -----   \n",
      " 0   customer_Id        99293 non-null  int64   \n",
      " 1   DOB                99293 non-null  object  \n",
      " 2   Gender             99253 non-null  object  \n",
      " 3   city_code          99257 non-null  float64 \n",
      " 4   transaction_id     99293 non-null  int64   \n",
      " 5   cust_id            99293 non-null  int64   \n",
      " 6   tran_date          99293 non-null  object  \n",
      " 7   prod_subcat_code   99293 non-null  int64   \n",
      " 8   prod_cat_code      99293 non-null  int64   \n",
      " 9   Qty                99293 non-null  int64   \n",
      " 10  Rate               99293 non-null  int64   \n",
      " 11  Tax                99293 non-null  float64 \n",
      " 12  total_amt          99293 non-null  float64 \n",
      " 13  Store_type         99293 non-null  object  \n",
      " 14  _merge             99293 non-null  category\n",
      " 15  prod_cat           99293 non-null  object  \n",
      " 16  prod_sub_cat_code  99293 non-null  int64   \n",
      " 17  prod_subcat        99293 non-null  object  \n",
      "dtypes: category(1), float64(3), int64(8), object(6)\n",
      "memory usage: 13.7+ MB\n"
     ]
    }
   ],
   "source": [
    "d5.info()"
   ]
  },
  {
   "cell_type": "code",
   "execution_count": 11,
   "metadata": {},
   "outputs": [
    {
     "data": {
      "text/html": [
       "<div>\n",
       "<style scoped>\n",
       "    .dataframe tbody tr th:only-of-type {\n",
       "        vertical-align: middle;\n",
       "    }\n",
       "\n",
       "    .dataframe tbody tr th {\n",
       "        vertical-align: top;\n",
       "    }\n",
       "\n",
       "    .dataframe thead th {\n",
       "        text-align: right;\n",
       "    }\n",
       "</style>\n",
       "<table border=\"1\" class=\"dataframe\">\n",
       "  <thead>\n",
       "    <tr style=\"text-align: right;\">\n",
       "      <th></th>\n",
       "      <th>customer_Id</th>\n",
       "      <th>DOB</th>\n",
       "      <th>Gender</th>\n",
       "      <th>city_code</th>\n",
       "      <th>transaction_id</th>\n",
       "      <th>cust_id</th>\n",
       "      <th>tran_date</th>\n",
       "      <th>prod_subcat_code</th>\n",
       "      <th>prod_cat_code</th>\n",
       "      <th>Qty</th>\n",
       "      <th>Rate</th>\n",
       "      <th>Tax</th>\n",
       "      <th>total_amt</th>\n",
       "      <th>Store_type</th>\n",
       "      <th>_merge</th>\n",
       "      <th>prod_cat</th>\n",
       "      <th>prod_sub_cat_code</th>\n",
       "      <th>prod_subcat</th>\n",
       "    </tr>\n",
       "  </thead>\n",
       "  <tbody>\n",
       "    <tr>\n",
       "      <th>0</th>\n",
       "      <td>268408</td>\n",
       "      <td>02-01-1970</td>\n",
       "      <td>M</td>\n",
       "      <td>4.0</td>\n",
       "      <td>87243835584</td>\n",
       "      <td>268408</td>\n",
       "      <td>13-01-2014</td>\n",
       "      <td>7</td>\n",
       "      <td>5</td>\n",
       "      <td>5</td>\n",
       "      <td>187</td>\n",
       "      <td>98.175</td>\n",
       "      <td>1033.175</td>\n",
       "      <td>TeleShop</td>\n",
       "      <td>both</td>\n",
       "      <td>Books</td>\n",
       "      <td>7</td>\n",
       "      <td>Fiction</td>\n",
       "    </tr>\n",
       "    <tr>\n",
       "      <th>1</th>\n",
       "      <td>268408</td>\n",
       "      <td>02-01-1970</td>\n",
       "      <td>M</td>\n",
       "      <td>4.0</td>\n",
       "      <td>87243835584</td>\n",
       "      <td>268408</td>\n",
       "      <td>13-01-2014</td>\n",
       "      <td>7</td>\n",
       "      <td>5</td>\n",
       "      <td>5</td>\n",
       "      <td>187</td>\n",
       "      <td>98.175</td>\n",
       "      <td>1033.175</td>\n",
       "      <td>TeleShop</td>\n",
       "      <td>both</td>\n",
       "      <td>Books</td>\n",
       "      <td>12</td>\n",
       "      <td>Academic</td>\n",
       "    </tr>\n",
       "    <tr>\n",
       "      <th>2</th>\n",
       "      <td>268408</td>\n",
       "      <td>02-01-1970</td>\n",
       "      <td>M</td>\n",
       "      <td>4.0</td>\n",
       "      <td>87243835584</td>\n",
       "      <td>268408</td>\n",
       "      <td>13-01-2014</td>\n",
       "      <td>7</td>\n",
       "      <td>5</td>\n",
       "      <td>5</td>\n",
       "      <td>187</td>\n",
       "      <td>98.175</td>\n",
       "      <td>1033.175</td>\n",
       "      <td>TeleShop</td>\n",
       "      <td>both</td>\n",
       "      <td>Books</td>\n",
       "      <td>10</td>\n",
       "      <td>Non-Fiction</td>\n",
       "    </tr>\n",
       "    <tr>\n",
       "      <th>3</th>\n",
       "      <td>268408</td>\n",
       "      <td>02-01-1970</td>\n",
       "      <td>M</td>\n",
       "      <td>4.0</td>\n",
       "      <td>87243835584</td>\n",
       "      <td>268408</td>\n",
       "      <td>13-01-2014</td>\n",
       "      <td>7</td>\n",
       "      <td>5</td>\n",
       "      <td>5</td>\n",
       "      <td>187</td>\n",
       "      <td>98.175</td>\n",
       "      <td>1033.175</td>\n",
       "      <td>TeleShop</td>\n",
       "      <td>both</td>\n",
       "      <td>Books</td>\n",
       "      <td>11</td>\n",
       "      <td>Children</td>\n",
       "    </tr>\n",
       "    <tr>\n",
       "      <th>4</th>\n",
       "      <td>268408</td>\n",
       "      <td>02-01-1970</td>\n",
       "      <td>M</td>\n",
       "      <td>4.0</td>\n",
       "      <td>87243835584</td>\n",
       "      <td>268408</td>\n",
       "      <td>13-01-2014</td>\n",
       "      <td>7</td>\n",
       "      <td>5</td>\n",
       "      <td>5</td>\n",
       "      <td>187</td>\n",
       "      <td>98.175</td>\n",
       "      <td>1033.175</td>\n",
       "      <td>TeleShop</td>\n",
       "      <td>both</td>\n",
       "      <td>Books</td>\n",
       "      <td>3</td>\n",
       "      <td>Comics</td>\n",
       "    </tr>\n",
       "    <tr>\n",
       "      <th>5</th>\n",
       "      <td>268408</td>\n",
       "      <td>02-01-1970</td>\n",
       "      <td>M</td>\n",
       "      <td>4.0</td>\n",
       "      <td>87243835584</td>\n",
       "      <td>268408</td>\n",
       "      <td>13-01-2014</td>\n",
       "      <td>7</td>\n",
       "      <td>5</td>\n",
       "      <td>5</td>\n",
       "      <td>187</td>\n",
       "      <td>98.175</td>\n",
       "      <td>1033.175</td>\n",
       "      <td>TeleShop</td>\n",
       "      <td>both</td>\n",
       "      <td>Books</td>\n",
       "      <td>6</td>\n",
       "      <td>DIY</td>\n",
       "    </tr>\n",
       "    <tr>\n",
       "      <th>6</th>\n",
       "      <td>268159</td>\n",
       "      <td>08-01-1970</td>\n",
       "      <td>F</td>\n",
       "      <td>8.0</td>\n",
       "      <td>65867401816</td>\n",
       "      <td>268159</td>\n",
       "      <td>31-03-2013</td>\n",
       "      <td>11</td>\n",
       "      <td>5</td>\n",
       "      <td>5</td>\n",
       "      <td>214</td>\n",
       "      <td>112.350</td>\n",
       "      <td>1182.350</td>\n",
       "      <td>MBR</td>\n",
       "      <td>both</td>\n",
       "      <td>Books</td>\n",
       "      <td>7</td>\n",
       "      <td>Fiction</td>\n",
       "    </tr>\n",
       "    <tr>\n",
       "      <th>7</th>\n",
       "      <td>268159</td>\n",
       "      <td>08-01-1970</td>\n",
       "      <td>F</td>\n",
       "      <td>8.0</td>\n",
       "      <td>65867401816</td>\n",
       "      <td>268159</td>\n",
       "      <td>31-03-2013</td>\n",
       "      <td>11</td>\n",
       "      <td>5</td>\n",
       "      <td>5</td>\n",
       "      <td>214</td>\n",
       "      <td>112.350</td>\n",
       "      <td>1182.350</td>\n",
       "      <td>MBR</td>\n",
       "      <td>both</td>\n",
       "      <td>Books</td>\n",
       "      <td>12</td>\n",
       "      <td>Academic</td>\n",
       "    </tr>\n",
       "    <tr>\n",
       "      <th>8</th>\n",
       "      <td>268159</td>\n",
       "      <td>08-01-1970</td>\n",
       "      <td>F</td>\n",
       "      <td>8.0</td>\n",
       "      <td>65867401816</td>\n",
       "      <td>268159</td>\n",
       "      <td>31-03-2013</td>\n",
       "      <td>11</td>\n",
       "      <td>5</td>\n",
       "      <td>5</td>\n",
       "      <td>214</td>\n",
       "      <td>112.350</td>\n",
       "      <td>1182.350</td>\n",
       "      <td>MBR</td>\n",
       "      <td>both</td>\n",
       "      <td>Books</td>\n",
       "      <td>10</td>\n",
       "      <td>Non-Fiction</td>\n",
       "    </tr>\n",
       "    <tr>\n",
       "      <th>9</th>\n",
       "      <td>268159</td>\n",
       "      <td>08-01-1970</td>\n",
       "      <td>F</td>\n",
       "      <td>8.0</td>\n",
       "      <td>65867401816</td>\n",
       "      <td>268159</td>\n",
       "      <td>31-03-2013</td>\n",
       "      <td>11</td>\n",
       "      <td>5</td>\n",
       "      <td>5</td>\n",
       "      <td>214</td>\n",
       "      <td>112.350</td>\n",
       "      <td>1182.350</td>\n",
       "      <td>MBR</td>\n",
       "      <td>both</td>\n",
       "      <td>Books</td>\n",
       "      <td>11</td>\n",
       "      <td>Children</td>\n",
       "    </tr>\n",
       "  </tbody>\n",
       "</table>\n",
       "</div>"
      ],
      "text/plain": [
       "   customer_Id         DOB Gender  city_code  transaction_id  cust_id  \\\n",
       "0       268408  02-01-1970      M        4.0     87243835584   268408   \n",
       "1       268408  02-01-1970      M        4.0     87243835584   268408   \n",
       "2       268408  02-01-1970      M        4.0     87243835584   268408   \n",
       "3       268408  02-01-1970      M        4.0     87243835584   268408   \n",
       "4       268408  02-01-1970      M        4.0     87243835584   268408   \n",
       "5       268408  02-01-1970      M        4.0     87243835584   268408   \n",
       "6       268159  08-01-1970      F        8.0     65867401816   268159   \n",
       "7       268159  08-01-1970      F        8.0     65867401816   268159   \n",
       "8       268159  08-01-1970      F        8.0     65867401816   268159   \n",
       "9       268159  08-01-1970      F        8.0     65867401816   268159   \n",
       "\n",
       "    tran_date  prod_subcat_code  prod_cat_code  Qty  Rate      Tax  total_amt  \\\n",
       "0  13-01-2014                 7              5    5   187   98.175   1033.175   \n",
       "1  13-01-2014                 7              5    5   187   98.175   1033.175   \n",
       "2  13-01-2014                 7              5    5   187   98.175   1033.175   \n",
       "3  13-01-2014                 7              5    5   187   98.175   1033.175   \n",
       "4  13-01-2014                 7              5    5   187   98.175   1033.175   \n",
       "5  13-01-2014                 7              5    5   187   98.175   1033.175   \n",
       "6  31-03-2013                11              5    5   214  112.350   1182.350   \n",
       "7  31-03-2013                11              5    5   214  112.350   1182.350   \n",
       "8  31-03-2013                11              5    5   214  112.350   1182.350   \n",
       "9  31-03-2013                11              5    5   214  112.350   1182.350   \n",
       "\n",
       "  Store_type _merge prod_cat  prod_sub_cat_code  prod_subcat  \n",
       "0   TeleShop   both    Books                  7      Fiction  \n",
       "1   TeleShop   both    Books                 12     Academic  \n",
       "2   TeleShop   both    Books                 10  Non-Fiction  \n",
       "3   TeleShop   both    Books                 11     Children  \n",
       "4   TeleShop   both    Books                  3       Comics  \n",
       "5   TeleShop   both    Books                  6          DIY  \n",
       "6        MBR   both    Books                  7      Fiction  \n",
       "7        MBR   both    Books                 12     Academic  \n",
       "8        MBR   both    Books                 10  Non-Fiction  \n",
       "9        MBR   both    Books                 11     Children  "
      ]
     },
     "execution_count": 11,
     "metadata": {},
     "output_type": "execute_result"
    }
   ],
   "source": [
    "d5.head(10)"
   ]
  },
  {
   "cell_type": "code",
   "execution_count": 12,
   "metadata": {},
   "outputs": [
    {
     "data": {
      "text/html": [
       "<div>\n",
       "<style scoped>\n",
       "    .dataframe tbody tr th:only-of-type {\n",
       "        vertical-align: middle;\n",
       "    }\n",
       "\n",
       "    .dataframe tbody tr th {\n",
       "        vertical-align: top;\n",
       "    }\n",
       "\n",
       "    .dataframe thead th {\n",
       "        text-align: right;\n",
       "    }\n",
       "</style>\n",
       "<table border=\"1\" class=\"dataframe\">\n",
       "  <thead>\n",
       "    <tr style=\"text-align: right;\">\n",
       "      <th></th>\n",
       "      <th>customer_Id</th>\n",
       "      <th>DOB</th>\n",
       "      <th>Gender</th>\n",
       "      <th>city_code</th>\n",
       "      <th>transaction_id</th>\n",
       "      <th>cust_id</th>\n",
       "      <th>tran_date</th>\n",
       "      <th>prod_subcat_code</th>\n",
       "      <th>prod_cat_code</th>\n",
       "      <th>Qty</th>\n",
       "      <th>Rate</th>\n",
       "      <th>Tax</th>\n",
       "      <th>total_amt</th>\n",
       "      <th>Store_type</th>\n",
       "      <th>_merge</th>\n",
       "      <th>prod_cat</th>\n",
       "      <th>prod_sub_cat_code</th>\n",
       "      <th>prod_subcat</th>\n",
       "    </tr>\n",
       "  </thead>\n",
       "  <tbody>\n",
       "    <tr>\n",
       "      <th>99283</th>\n",
       "      <td>274618</td>\n",
       "      <td>09-12-1992</td>\n",
       "      <td>F</td>\n",
       "      <td>7.0</td>\n",
       "      <td>98631113719</td>\n",
       "      <td>274618</td>\n",
       "      <td>19-04-2013</td>\n",
       "      <td>3</td>\n",
       "      <td>1</td>\n",
       "      <td>2</td>\n",
       "      <td>721</td>\n",
       "      <td>151.41</td>\n",
       "      <td>1593.41</td>\n",
       "      <td>e-Shop</td>\n",
       "      <td>both</td>\n",
       "      <td>Clothing</td>\n",
       "      <td>3</td>\n",
       "      <td>Kids</td>\n",
       "    </tr>\n",
       "    <tr>\n",
       "      <th>99284</th>\n",
       "      <td>268097</td>\n",
       "      <td>15-12-1992</td>\n",
       "      <td>F</td>\n",
       "      <td>7.0</td>\n",
       "      <td>71286190189</td>\n",
       "      <td>268097</td>\n",
       "      <td>5/9/2011</td>\n",
       "      <td>4</td>\n",
       "      <td>1</td>\n",
       "      <td>5</td>\n",
       "      <td>818</td>\n",
       "      <td>429.45</td>\n",
       "      <td>4519.45</td>\n",
       "      <td>e-Shop</td>\n",
       "      <td>both</td>\n",
       "      <td>Clothing</td>\n",
       "      <td>4</td>\n",
       "      <td>Mens</td>\n",
       "    </tr>\n",
       "    <tr>\n",
       "      <th>99285</th>\n",
       "      <td>268097</td>\n",
       "      <td>15-12-1992</td>\n",
       "      <td>F</td>\n",
       "      <td>7.0</td>\n",
       "      <td>71286190189</td>\n",
       "      <td>268097</td>\n",
       "      <td>5/9/2011</td>\n",
       "      <td>4</td>\n",
       "      <td>1</td>\n",
       "      <td>5</td>\n",
       "      <td>818</td>\n",
       "      <td>429.45</td>\n",
       "      <td>4519.45</td>\n",
       "      <td>e-Shop</td>\n",
       "      <td>both</td>\n",
       "      <td>Clothing</td>\n",
       "      <td>1</td>\n",
       "      <td>Women</td>\n",
       "    </tr>\n",
       "    <tr>\n",
       "      <th>99286</th>\n",
       "      <td>268097</td>\n",
       "      <td>15-12-1992</td>\n",
       "      <td>F</td>\n",
       "      <td>7.0</td>\n",
       "      <td>71286190189</td>\n",
       "      <td>268097</td>\n",
       "      <td>5/9/2011</td>\n",
       "      <td>4</td>\n",
       "      <td>1</td>\n",
       "      <td>5</td>\n",
       "      <td>818</td>\n",
       "      <td>429.45</td>\n",
       "      <td>4519.45</td>\n",
       "      <td>e-Shop</td>\n",
       "      <td>both</td>\n",
       "      <td>Clothing</td>\n",
       "      <td>3</td>\n",
       "      <td>Kids</td>\n",
       "    </tr>\n",
       "    <tr>\n",
       "      <th>99287</th>\n",
       "      <td>271772</td>\n",
       "      <td>17-12-1992</td>\n",
       "      <td>M</td>\n",
       "      <td>2.0</td>\n",
       "      <td>10440850091</td>\n",
       "      <td>271772</td>\n",
       "      <td>26-04-2013</td>\n",
       "      <td>4</td>\n",
       "      <td>1</td>\n",
       "      <td>4</td>\n",
       "      <td>819</td>\n",
       "      <td>343.98</td>\n",
       "      <td>3619.98</td>\n",
       "      <td>Flagship store</td>\n",
       "      <td>both</td>\n",
       "      <td>Clothing</td>\n",
       "      <td>4</td>\n",
       "      <td>Mens</td>\n",
       "    </tr>\n",
       "    <tr>\n",
       "      <th>99288</th>\n",
       "      <td>271772</td>\n",
       "      <td>17-12-1992</td>\n",
       "      <td>M</td>\n",
       "      <td>2.0</td>\n",
       "      <td>10440850091</td>\n",
       "      <td>271772</td>\n",
       "      <td>26-04-2013</td>\n",
       "      <td>4</td>\n",
       "      <td>1</td>\n",
       "      <td>4</td>\n",
       "      <td>819</td>\n",
       "      <td>343.98</td>\n",
       "      <td>3619.98</td>\n",
       "      <td>Flagship store</td>\n",
       "      <td>both</td>\n",
       "      <td>Clothing</td>\n",
       "      <td>1</td>\n",
       "      <td>Women</td>\n",
       "    </tr>\n",
       "    <tr>\n",
       "      <th>99289</th>\n",
       "      <td>271772</td>\n",
       "      <td>17-12-1992</td>\n",
       "      <td>M</td>\n",
       "      <td>2.0</td>\n",
       "      <td>10440850091</td>\n",
       "      <td>271772</td>\n",
       "      <td>26-04-2013</td>\n",
       "      <td>4</td>\n",
       "      <td>1</td>\n",
       "      <td>4</td>\n",
       "      <td>819</td>\n",
       "      <td>343.98</td>\n",
       "      <td>3619.98</td>\n",
       "      <td>Flagship store</td>\n",
       "      <td>both</td>\n",
       "      <td>Clothing</td>\n",
       "      <td>3</td>\n",
       "      <td>Kids</td>\n",
       "    </tr>\n",
       "    <tr>\n",
       "      <th>99290</th>\n",
       "      <td>269626</td>\n",
       "      <td>27-12-1992</td>\n",
       "      <td>F</td>\n",
       "      <td>5.0</td>\n",
       "      <td>94134051896</td>\n",
       "      <td>269626</td>\n",
       "      <td>7/7/2011</td>\n",
       "      <td>3</td>\n",
       "      <td>1</td>\n",
       "      <td>3</td>\n",
       "      <td>1078</td>\n",
       "      <td>339.57</td>\n",
       "      <td>3573.57</td>\n",
       "      <td>MBR</td>\n",
       "      <td>both</td>\n",
       "      <td>Clothing</td>\n",
       "      <td>4</td>\n",
       "      <td>Mens</td>\n",
       "    </tr>\n",
       "    <tr>\n",
       "      <th>99291</th>\n",
       "      <td>269626</td>\n",
       "      <td>27-12-1992</td>\n",
       "      <td>F</td>\n",
       "      <td>5.0</td>\n",
       "      <td>94134051896</td>\n",
       "      <td>269626</td>\n",
       "      <td>7/7/2011</td>\n",
       "      <td>3</td>\n",
       "      <td>1</td>\n",
       "      <td>3</td>\n",
       "      <td>1078</td>\n",
       "      <td>339.57</td>\n",
       "      <td>3573.57</td>\n",
       "      <td>MBR</td>\n",
       "      <td>both</td>\n",
       "      <td>Clothing</td>\n",
       "      <td>1</td>\n",
       "      <td>Women</td>\n",
       "    </tr>\n",
       "    <tr>\n",
       "      <th>99292</th>\n",
       "      <td>269626</td>\n",
       "      <td>27-12-1992</td>\n",
       "      <td>F</td>\n",
       "      <td>5.0</td>\n",
       "      <td>94134051896</td>\n",
       "      <td>269626</td>\n",
       "      <td>7/7/2011</td>\n",
       "      <td>3</td>\n",
       "      <td>1</td>\n",
       "      <td>3</td>\n",
       "      <td>1078</td>\n",
       "      <td>339.57</td>\n",
       "      <td>3573.57</td>\n",
       "      <td>MBR</td>\n",
       "      <td>both</td>\n",
       "      <td>Clothing</td>\n",
       "      <td>3</td>\n",
       "      <td>Kids</td>\n",
       "    </tr>\n",
       "  </tbody>\n",
       "</table>\n",
       "</div>"
      ],
      "text/plain": [
       "       customer_Id         DOB Gender  city_code  transaction_id  cust_id  \\\n",
       "99283       274618  09-12-1992      F        7.0     98631113719   274618   \n",
       "99284       268097  15-12-1992      F        7.0     71286190189   268097   \n",
       "99285       268097  15-12-1992      F        7.0     71286190189   268097   \n",
       "99286       268097  15-12-1992      F        7.0     71286190189   268097   \n",
       "99287       271772  17-12-1992      M        2.0     10440850091   271772   \n",
       "99288       271772  17-12-1992      M        2.0     10440850091   271772   \n",
       "99289       271772  17-12-1992      M        2.0     10440850091   271772   \n",
       "99290       269626  27-12-1992      F        5.0     94134051896   269626   \n",
       "99291       269626  27-12-1992      F        5.0     94134051896   269626   \n",
       "99292       269626  27-12-1992      F        5.0     94134051896   269626   \n",
       "\n",
       "        tran_date  prod_subcat_code  prod_cat_code  Qty  Rate     Tax  \\\n",
       "99283  19-04-2013                 3              1    2   721  151.41   \n",
       "99284    5/9/2011                 4              1    5   818  429.45   \n",
       "99285    5/9/2011                 4              1    5   818  429.45   \n",
       "99286    5/9/2011                 4              1    5   818  429.45   \n",
       "99287  26-04-2013                 4              1    4   819  343.98   \n",
       "99288  26-04-2013                 4              1    4   819  343.98   \n",
       "99289  26-04-2013                 4              1    4   819  343.98   \n",
       "99290    7/7/2011                 3              1    3  1078  339.57   \n",
       "99291    7/7/2011                 3              1    3  1078  339.57   \n",
       "99292    7/7/2011                 3              1    3  1078  339.57   \n",
       "\n",
       "       total_amt      Store_type _merge  prod_cat  prod_sub_cat_code  \\\n",
       "99283    1593.41          e-Shop   both  Clothing                  3   \n",
       "99284    4519.45          e-Shop   both  Clothing                  4   \n",
       "99285    4519.45          e-Shop   both  Clothing                  1   \n",
       "99286    4519.45          e-Shop   both  Clothing                  3   \n",
       "99287    3619.98  Flagship store   both  Clothing                  4   \n",
       "99288    3619.98  Flagship store   both  Clothing                  1   \n",
       "99289    3619.98  Flagship store   both  Clothing                  3   \n",
       "99290    3573.57             MBR   both  Clothing                  4   \n",
       "99291    3573.57             MBR   both  Clothing                  1   \n",
       "99292    3573.57             MBR   both  Clothing                  3   \n",
       "\n",
       "      prod_subcat  \n",
       "99283        Kids  \n",
       "99284        Mens  \n",
       "99285       Women  \n",
       "99286        Kids  \n",
       "99287        Mens  \n",
       "99288       Women  \n",
       "99289        Kids  \n",
       "99290        Mens  \n",
       "99291       Women  \n",
       "99292        Kids  "
      ]
     },
     "execution_count": 12,
     "metadata": {},
     "output_type": "execute_result"
    }
   ],
   "source": [
    "d5.tail(10)"
   ]
  },
  {
   "cell_type": "code",
   "execution_count": 13,
   "metadata": {},
   "outputs": [],
   "source": [
    "#“Five-number summary” for continuous variables (min, Q1, median, Q3 and max)"
   ]
  },
  {
   "cell_type": "code",
   "execution_count": 14,
   "metadata": {},
   "outputs": [
    {
     "data": {
      "text/html": [
       "<div>\n",
       "<style scoped>\n",
       "    .dataframe tbody tr th:only-of-type {\n",
       "        vertical-align: middle;\n",
       "    }\n",
       "\n",
       "    .dataframe tbody tr th {\n",
       "        vertical-align: top;\n",
       "    }\n",
       "\n",
       "    .dataframe thead th {\n",
       "        text-align: right;\n",
       "    }\n",
       "</style>\n",
       "<table border=\"1\" class=\"dataframe\">\n",
       "  <thead>\n",
       "    <tr style=\"text-align: right;\">\n",
       "      <th></th>\n",
       "      <th>customer_Id</th>\n",
       "      <th>city_code</th>\n",
       "      <th>transaction_id</th>\n",
       "      <th>cust_id</th>\n",
       "      <th>prod_subcat_code</th>\n",
       "      <th>prod_cat_code</th>\n",
       "      <th>Qty</th>\n",
       "      <th>Rate</th>\n",
       "      <th>Tax</th>\n",
       "      <th>total_amt</th>\n",
       "      <th>prod_sub_cat_code</th>\n",
       "    </tr>\n",
       "  </thead>\n",
       "  <tbody>\n",
       "    <tr>\n",
       "      <th>count</th>\n",
       "      <td>99293.000000</td>\n",
       "      <td>99257.000000</td>\n",
       "      <td>9.929300e+04</td>\n",
       "      <td>99293.000000</td>\n",
       "      <td>99293.000000</td>\n",
       "      <td>99293.000000</td>\n",
       "      <td>99293.000000</td>\n",
       "      <td>99293.000000</td>\n",
       "      <td>99293.000000</td>\n",
       "      <td>99293.000000</td>\n",
       "      <td>99293.000000</td>\n",
       "    </tr>\n",
       "    <tr>\n",
       "      <th>mean</th>\n",
       "      <td>271030.010635</td>\n",
       "      <td>5.467221</td>\n",
       "      <td>5.007320e+10</td>\n",
       "      <td>271030.010635</td>\n",
       "      <td>6.796894</td>\n",
       "      <td>4.003243</td>\n",
       "      <td>2.438017</td>\n",
       "      <td>637.919884</td>\n",
       "      <td>248.873736</td>\n",
       "      <td>2114.616420</td>\n",
       "      <td>6.806985</td>\n",
       "    </tr>\n",
       "    <tr>\n",
       "      <th>std</th>\n",
       "      <td>2429.333624</td>\n",
       "      <td>2.859343</td>\n",
       "      <td>2.899361e+10</td>\n",
       "      <td>2429.333624</td>\n",
       "      <td>3.609439</td>\n",
       "      <td>1.563991</td>\n",
       "      <td>2.260726</td>\n",
       "      <td>621.576326</td>\n",
       "      <td>187.014422</td>\n",
       "      <td>2502.306768</td>\n",
       "      <td>3.615952</td>\n",
       "    </tr>\n",
       "    <tr>\n",
       "      <th>min</th>\n",
       "      <td>266783.000000</td>\n",
       "      <td>1.000000</td>\n",
       "      <td>3.268991e+06</td>\n",
       "      <td>266783.000000</td>\n",
       "      <td>1.000000</td>\n",
       "      <td>1.000000</td>\n",
       "      <td>-5.000000</td>\n",
       "      <td>-1499.000000</td>\n",
       "      <td>7.350000</td>\n",
       "      <td>-8270.925000</td>\n",
       "      <td>1.000000</td>\n",
       "    </tr>\n",
       "    <tr>\n",
       "      <th>25%</th>\n",
       "      <td>268956.000000</td>\n",
       "      <td>3.000000</td>\n",
       "      <td>2.492150e+10</td>\n",
       "      <td>268956.000000</td>\n",
       "      <td>4.000000</td>\n",
       "      <td>3.000000</td>\n",
       "      <td>1.000000</td>\n",
       "      <td>313.000000</td>\n",
       "      <td>98.280000</td>\n",
       "      <td>762.450000</td>\n",
       "      <td>4.000000</td>\n",
       "    </tr>\n",
       "    <tr>\n",
       "      <th>50%</th>\n",
       "      <td>270982.000000</td>\n",
       "      <td>5.000000</td>\n",
       "      <td>5.011083e+10</td>\n",
       "      <td>270982.000000</td>\n",
       "      <td>7.000000</td>\n",
       "      <td>5.000000</td>\n",
       "      <td>3.000000</td>\n",
       "      <td>713.000000</td>\n",
       "      <td>199.920000</td>\n",
       "      <td>1761.370000</td>\n",
       "      <td>7.000000</td>\n",
       "    </tr>\n",
       "    <tr>\n",
       "      <th>75%</th>\n",
       "      <td>273120.000000</td>\n",
       "      <td>8.000000</td>\n",
       "      <td>7.528121e+10</td>\n",
       "      <td>273120.000000</td>\n",
       "      <td>10.000000</td>\n",
       "      <td>5.000000</td>\n",
       "      <td>4.000000</td>\n",
       "      <td>1109.000000</td>\n",
       "      <td>366.975000</td>\n",
       "      <td>3585.725000</td>\n",
       "      <td>10.000000</td>\n",
       "    </tr>\n",
       "    <tr>\n",
       "      <th>max</th>\n",
       "      <td>275265.000000</td>\n",
       "      <td>10.000000</td>\n",
       "      <td>9.998755e+10</td>\n",
       "      <td>275265.000000</td>\n",
       "      <td>12.000000</td>\n",
       "      <td>6.000000</td>\n",
       "      <td>5.000000</td>\n",
       "      <td>1500.000000</td>\n",
       "      <td>787.500000</td>\n",
       "      <td>8287.500000</td>\n",
       "      <td>12.000000</td>\n",
       "    </tr>\n",
       "  </tbody>\n",
       "</table>\n",
       "</div>"
      ],
      "text/plain": [
       "         customer_Id     city_code  transaction_id        cust_id  \\\n",
       "count   99293.000000  99257.000000    9.929300e+04   99293.000000   \n",
       "mean   271030.010635      5.467221    5.007320e+10  271030.010635   \n",
       "std      2429.333624      2.859343    2.899361e+10    2429.333624   \n",
       "min    266783.000000      1.000000    3.268991e+06  266783.000000   \n",
       "25%    268956.000000      3.000000    2.492150e+10  268956.000000   \n",
       "50%    270982.000000      5.000000    5.011083e+10  270982.000000   \n",
       "75%    273120.000000      8.000000    7.528121e+10  273120.000000   \n",
       "max    275265.000000     10.000000    9.998755e+10  275265.000000   \n",
       "\n",
       "       prod_subcat_code  prod_cat_code           Qty          Rate  \\\n",
       "count      99293.000000   99293.000000  99293.000000  99293.000000   \n",
       "mean           6.796894       4.003243      2.438017    637.919884   \n",
       "std            3.609439       1.563991      2.260726    621.576326   \n",
       "min            1.000000       1.000000     -5.000000  -1499.000000   \n",
       "25%            4.000000       3.000000      1.000000    313.000000   \n",
       "50%            7.000000       5.000000      3.000000    713.000000   \n",
       "75%           10.000000       5.000000      4.000000   1109.000000   \n",
       "max           12.000000       6.000000      5.000000   1500.000000   \n",
       "\n",
       "                Tax     total_amt  prod_sub_cat_code  \n",
       "count  99293.000000  99293.000000       99293.000000  \n",
       "mean     248.873736   2114.616420           6.806985  \n",
       "std      187.014422   2502.306768           3.615952  \n",
       "min        7.350000  -8270.925000           1.000000  \n",
       "25%       98.280000    762.450000           4.000000  \n",
       "50%      199.920000   1761.370000           7.000000  \n",
       "75%      366.975000   3585.725000          10.000000  \n",
       "max      787.500000   8287.500000          12.000000  "
      ]
     },
     "execution_count": 14,
     "metadata": {},
     "output_type": "execute_result"
    }
   ],
   "source": [
    "d5.describe()"
   ]
  },
  {
   "cell_type": "code",
   "execution_count": 15,
   "metadata": {},
   "outputs": [
    {
     "name": "stdout",
     "output_type": "stream",
     "text": [
      "Min =  -8270.925\n",
      "Max =  8287.5\n",
      "Median =  1761.37\n",
      "Q1 =  762.45\n",
      "Q3 =  3585.725\n"
     ]
    }
   ],
   "source": [
    "minimum = d5['total_amt'].min()\n",
    "maximum = d5['total_amt'].max()\n",
    "Q1  = np.percentile(d5.total_amt,25)\n",
    "median  = np.percentile(d5.total_amt,50)\n",
    "Q3  = np.percentile(d5.total_amt,75)\n",
    "print('Min = ',minimum)\n",
    "print('Max = ',maximum)\n",
    "print('Median = ',median)\n",
    "print('Q1 = ',Q1)\n",
    "print('Q3 = ',Q3)"
   ]
  },
  {
   "cell_type": "code",
   "execution_count": 16,
   "metadata": {},
   "outputs": [
    {
     "data": {
      "text/plain": [
       "customer_Id           0\n",
       "DOB                   0\n",
       "Gender               40\n",
       "city_code            36\n",
       "transaction_id        0\n",
       "cust_id               0\n",
       "tran_date             0\n",
       "prod_subcat_code      0\n",
       "prod_cat_code         0\n",
       "Qty                   0\n",
       "Rate                  0\n",
       "Tax                   0\n",
       "total_amt             0\n",
       "Store_type            0\n",
       "_merge                0\n",
       "prod_cat              0\n",
       "prod_sub_cat_code     0\n",
       "prod_subcat           0\n",
       "dtype: int64"
      ]
     },
     "execution_count": 16,
     "metadata": {},
     "output_type": "execute_result"
    }
   ],
   "source": [
    "d5.isnull().sum()"
   ]
  },
  {
   "cell_type": "code",
   "execution_count": 17,
   "metadata": {},
   "outputs": [
    {
     "data": {
      "text/plain": [
       "Index(['DOB', 'Gender', 'tran_date', 'Store_type', 'prod_cat', 'prod_subcat'], dtype='object')"
      ]
     },
     "execution_count": 17,
     "metadata": {},
     "output_type": "execute_result"
    }
   ],
   "source": [
    "#Frequency Tables for all the categorical variables\n",
    "d5.select_dtypes(include=['object']).columns"
   ]
  },
  {
   "cell_type": "code",
   "execution_count": 18,
   "metadata": {},
   "outputs": [
    {
     "data": {
      "text/html": [
       "<div>\n",
       "<style scoped>\n",
       "    .dataframe tbody tr th:only-of-type {\n",
       "        vertical-align: middle;\n",
       "    }\n",
       "\n",
       "    .dataframe tbody tr th {\n",
       "        vertical-align: top;\n",
       "    }\n",
       "\n",
       "    .dataframe thead th {\n",
       "        text-align: right;\n",
       "    }\n",
       "</style>\n",
       "<table border=\"1\" class=\"dataframe\">\n",
       "  <thead>\n",
       "    <tr style=\"text-align: right;\">\n",
       "      <th></th>\n",
       "      <th>TeleShop</th>\n",
       "      <th>MBR</th>\n",
       "      <th>e-shop</th>\n",
       "      <th>Flagshipstore</th>\n",
       "    </tr>\n",
       "  </thead>\n",
       "  <tbody>\n",
       "    <tr>\n",
       "      <th>Male</th>\n",
       "      <td>9767</td>\n",
       "      <td>9687</td>\n",
       "      <td>9159</td>\n",
       "      <td>19589</td>\n",
       "    </tr>\n",
       "    <tr>\n",
       "      <th>Female</th>\n",
       "      <td>10047</td>\n",
       "      <td>10278</td>\n",
       "      <td>10142</td>\n",
       "      <td>20584</td>\n",
       "    </tr>\n",
       "  </tbody>\n",
       "</table>\n",
       "</div>"
      ],
      "text/plain": [
       "        TeleShop    MBR  e-shop  Flagshipstore\n",
       "Male        9767   9687    9159          19589\n",
       "Female     10047  10278   10142          20584"
      ]
     },
     "execution_count": 18,
     "metadata": {},
     "output_type": "execute_result"
    }
   ],
   "source": [
    "#Store_type\n",
    "Frequency_Tables = pd.crosstab(index = d5['Gender'],columns = d5['Store_type'])\n",
    "Frequency_Tables.columns = ['TeleShop','MBR','e-shop','Flagshipstore']\n",
    "Frequency_Tables.index = ['Male','Female']\n",
    "Frequency_Tables"
   ]
  },
  {
   "cell_type": "code",
   "execution_count": 19,
   "metadata": {},
   "outputs": [
    {
     "data": {
      "text/html": [
       "<div>\n",
       "<style scoped>\n",
       "    .dataframe tbody tr th:only-of-type {\n",
       "        vertical-align: middle;\n",
       "    }\n",
       "\n",
       "    .dataframe tbody tr th {\n",
       "        vertical-align: top;\n",
       "    }\n",
       "\n",
       "    .dataframe thead th {\n",
       "        text-align: right;\n",
       "    }\n",
       "</style>\n",
       "<table border=\"1\" class=\"dataframe\">\n",
       "  <thead>\n",
       "    <tr style=\"text-align: right;\">\n",
       "      <th></th>\n",
       "      <th>Men</th>\n",
       "      <th>Women</th>\n",
       "      <th>Kid</th>\n",
       "      <th>Mobile</th>\n",
       "      <th>Computer</th>\n",
       "      <th>Personal Appliances</th>\n",
       "      <th>Cameras</th>\n",
       "      <th>Audio and video</th>\n",
       "      <th>Fiction</th>\n",
       "      <th>Academic</th>\n",
       "      <th>Non-fiction</th>\n",
       "      <th>Children</th>\n",
       "      <th>Comics</th>\n",
       "      <th>DIY</th>\n",
       "      <th>Furnishing</th>\n",
       "      <th>Kitchen</th>\n",
       "      <th>Bath</th>\n",
       "      <th>Tools</th>\n",
       "    </tr>\n",
       "  </thead>\n",
       "  <tbody>\n",
       "    <tr>\n",
       "      <th>Male</th>\n",
       "      <td>2949</td>\n",
       "      <td>2328</td>\n",
       "      <td>1994</td>\n",
       "      <td>2328</td>\n",
       "      <td>2949</td>\n",
       "      <td>2949</td>\n",
       "      <td>2328</td>\n",
       "      <td>2949</td>\n",
       "      <td>2949</td>\n",
       "      <td>1994</td>\n",
       "      <td>2968</td>\n",
       "      <td>1994</td>\n",
       "      <td>3962</td>\n",
       "      <td>2328</td>\n",
       "      <td>2949</td>\n",
       "      <td>2328</td>\n",
       "      <td>1994</td>\n",
       "      <td>3962</td>\n",
       "    </tr>\n",
       "    <tr>\n",
       "      <th>Female</th>\n",
       "      <td>3116</td>\n",
       "      <td>2570</td>\n",
       "      <td>2134</td>\n",
       "      <td>2570</td>\n",
       "      <td>3116</td>\n",
       "      <td>3116</td>\n",
       "      <td>2570</td>\n",
       "      <td>3116</td>\n",
       "      <td>3116</td>\n",
       "      <td>2134</td>\n",
       "      <td>2987</td>\n",
       "      <td>2134</td>\n",
       "      <td>3991</td>\n",
       "      <td>2570</td>\n",
       "      <td>3116</td>\n",
       "      <td>2570</td>\n",
       "      <td>2134</td>\n",
       "      <td>3991</td>\n",
       "    </tr>\n",
       "  </tbody>\n",
       "</table>\n",
       "</div>"
      ],
      "text/plain": [
       "         Men  Women   Kid  Mobile  Computer  Personal Appliances  Cameras  \\\n",
       "Male    2949   2328  1994    2328      2949                 2949     2328   \n",
       "Female  3116   2570  2134    2570      3116                 3116     2570   \n",
       "\n",
       "        Audio and video  Fiction  Academic  Non-fiction  Children  Comics  \\\n",
       "Male               2949     2949      1994         2968      1994    3962   \n",
       "Female             3116     3116      2134         2987      2134    3991   \n",
       "\n",
       "         DIY  Furnishing  Kitchen  Bath  Tools  \n",
       "Male    2328        2949     2328  1994   3962  \n",
       "Female  2570        3116     2570  2134   3991  "
      ]
     },
     "execution_count": 19,
     "metadata": {},
     "output_type": "execute_result"
    }
   ],
   "source": [
    "#prod_subcat\n",
    "Frequency_Tables = pd.crosstab(index = d5['Gender'],columns = d5['prod_subcat'])\n",
    "Frequency_Tables.columns = ['Men','Women','Kid','Mobile','Computer','Personal Appliances','Cameras','Audio and video',\n",
    "                      'Fiction','Academic','Non-fiction','Children','Comics','DIY','Furnishing','Kitchen',\n",
    "                      'Bath','Tools']\n",
    "Frequency_Tables.index = ['Male','Female']\n",
    "Frequency_Tables"
   ]
  },
  {
   "cell_type": "code",
   "execution_count": 20,
   "metadata": {},
   "outputs": [
    {
     "data": {
      "text/html": [
       "<div>\n",
       "<style scoped>\n",
       "    .dataframe tbody tr th:only-of-type {\n",
       "        vertical-align: middle;\n",
       "    }\n",
       "\n",
       "    .dataframe tbody tr th {\n",
       "        vertical-align: top;\n",
       "    }\n",
       "\n",
       "    .dataframe thead th {\n",
       "        text-align: right;\n",
       "    }\n",
       "</style>\n",
       "<table border=\"1\" class=\"dataframe\">\n",
       "  <thead>\n",
       "    <tr style=\"text-align: right;\">\n",
       "      <th></th>\n",
       "      <th>Books</th>\n",
       "      <th>Bags</th>\n",
       "      <th>Clothing</th>\n",
       "      <th>Footwear</th>\n",
       "      <th>Electronics</th>\n",
       "      <th>Home and kitchen</th>\n",
       "    </tr>\n",
       "  </thead>\n",
       "  <tbody>\n",
       "    <tr>\n",
       "      <th>Male</th>\n",
       "      <td>1988</td>\n",
       "      <td>17694</td>\n",
       "      <td>4317</td>\n",
       "      <td>11640</td>\n",
       "      <td>4587</td>\n",
       "      <td>7976</td>\n",
       "    </tr>\n",
       "    <tr>\n",
       "      <th>Female</th>\n",
       "      <td>2008</td>\n",
       "      <td>18696</td>\n",
       "      <td>4554</td>\n",
       "      <td>12850</td>\n",
       "      <td>4407</td>\n",
       "      <td>8536</td>\n",
       "    </tr>\n",
       "  </tbody>\n",
       "</table>\n",
       "</div>"
      ],
      "text/plain": [
       "        Books   Bags  Clothing  Footwear  Electronics  Home and kitchen\n",
       "Male     1988  17694      4317     11640         4587              7976\n",
       "Female   2008  18696      4554     12850         4407              8536"
      ]
     },
     "execution_count": 20,
     "metadata": {},
     "output_type": "execute_result"
    }
   ],
   "source": [
    "#prod_cat\n",
    "Frequency_Tables = pd.crosstab(index = d5['Gender'],\n",
    "                         columns = d5['prod_cat'])\n",
    "Frequency_Tables.columns = ['Books','Bags','Clothing','Footwear','Electronics','Home and kitchen']\n",
    "Frequency_Tables.index = ['Male','Female']\n",
    "Frequency_Tables"
   ]
  },
  {
   "cell_type": "code",
   "execution_count": 21,
   "metadata": {},
   "outputs": [],
   "source": [
    "#3. Generate histograms for all continuous variables and frequency bars for categorical variables."
   ]
  },
  {
   "cell_type": "code",
   "execution_count": 22,
   "metadata": {},
   "outputs": [],
   "source": [
    "#. Generate histograms for all continuous variables\n",
    "def fn_hist(x):\n",
    "    plt.figure(figsize=(3, 2))\n",
    "    x.hist()\n",
    "    plt.grid(True)\n",
    "    plt.title('This is a hist for ' + x.name)\n",
    "    plt.show()"
   ]
  },
  {
   "cell_type": "code",
   "execution_count": 23,
   "metadata": {},
   "outputs": [
    {
     "data": {
      "image/png": "[encoded data removed]",
      "text/plain": [
       "<Figure size 216x144 with 1 Axes>"
      ]
     },
     "metadata": {
      "needs_background": "light"
     },
     "output_type": "display_data"
    },
    {
     "data": {
      "image/png": "[encoded data removed]",
      "text/plain": [
       "<Figure size 216x144 with 1 Axes>"
      ]
     },
     "metadata": {
      "needs_background": "light"
     },
     "output_type": "display_data"
    },
    {
     "data": {
      "image/png": "[encoded data removed]",
      "text/plain": [
       "<Figure size 216x144 with 1 Axes>"
      ]
     },
     "metadata": {
      "needs_background": "light"
     },
     "output_type": "display_data"
    },
    {
     "data": {
      "image/png": "[encoded data removed]",
      "text/plain": [
       "<Figure size 216x144 with 1 Axes>"
      ]
     },
     "metadata": {
      "needs_background": "light"
     },
     "output_type": "display_data"
    },
    {
     "data": {
      "image/png": "[encoded data removed]",
      "text/plain": [
       "<Figure size 216x144 with 1 Axes>"
      ]
     },
     "metadata": {
      "needs_background": "light"
     },
     "output_type": "display_data"
    },
    {
     "data": {
      "image/png": "[encoded data removed]",
      "text/plain": [
       "<Figure size 216x144 with 1 Axes>"
      ]
     },
     "metadata": {
      "needs_background": "light"
     },
     "output_type": "display_data"
    },
    {
     "data": {
      "image/png": "[encoded data removed]",
      "text/plain": [
       "<Figure size 216x144 with 1 Axes>"
      ]
     },
     "metadata": {
      "needs_background": "light"
     },
     "output_type": "display_data"
    },
    {
     "data": {
      "image/png": "[encoded data removed]",
      "text/plain": [
       "<Figure size 216x144 with 1 Axes>"
      ]
     },
     "metadata": {
      "needs_background": "light"
     },
     "output_type": "display_data"
    },
    {
     "data": {
      "image/png": "[encoded data removed]",
      "text/plain": [
       "<Figure size 216x144 with 1 Axes>"
      ]
     },
     "metadata": {
      "needs_background": "light"
     },
     "output_type": "display_data"
    },
    {
     "data": {
      "image/png": "[encoded data removed]",
      "text/plain": [
       "<Figure size 216x144 with 1 Axes>"
      ]
     },
     "metadata": {
      "needs_background": "light"
     },
     "output_type": "display_data"
    },
    {
     "data": {
      "image/png": "[encoded data removed]",
      "text/plain": [
       "<Figure size 216x144 with 1 Axes>"
      ]
     },
     "metadata": {
      "needs_background": "light"
     },
     "output_type": "display_data"
    },
    {
     "data": {
      "text/plain": [
       "customer_Id          None\n",
       "city_code            None\n",
       "transaction_id       None\n",
       "cust_id              None\n",
       "prod_subcat_code     None\n",
       "prod_cat_code        None\n",
       "Qty                  None\n",
       "Rate                 None\n",
       "Tax                  None\n",
       "total_amt            None\n",
       "prod_sub_cat_code    None\n",
       "dtype: object"
      ]
     },
     "execution_count": 23,
     "metadata": {},
     "output_type": "execute_result"
    }
   ],
   "source": [
    "d5.select_dtypes(['float64', 'int64', 'float32', 'int32']).apply(fn_hist)"
   ]
  },
  {
   "cell_type": "code",
   "execution_count": 24,
   "metadata": {},
   "outputs": [
    {
     "data": {
      "text/plain": [
       "Index(['DOB', 'Gender', 'tran_date', 'Store_type', 'prod_cat', 'prod_subcat'], dtype='object')"
      ]
     },
     "execution_count": 24,
     "metadata": {},
     "output_type": "execute_result"
    }
   ],
   "source": [
    "d5.select_dtypes(include=['object']).columns"
   ]
  },
  {
   "cell_type": "code",
   "execution_count": 25,
   "metadata": {},
   "outputs": [
    {
     "data": {
      "text/plain": [
       "<matplotlib.axes._subplots.AxesSubplot at 0x182cc7ca708>"
      ]
     },
     "execution_count": 25,
     "metadata": {},
     "output_type": "execute_result"
    },
    {
     "data": {
      "image/png": "[encoded data removed]",
      "text/plain": [
       "<Figure size 432x288 with 1 Axes>"
      ]
     },
     "metadata": {
      "needs_background": "light"
     },
     "output_type": "display_data"
    }
   ],
   "source": [
    "# frequency bars for categorical variables.\n",
    "d5['Gender'].value_counts().plot(kind='bar')\n"
   ]
  },
  {
   "cell_type": "code",
   "execution_count": 26,
   "metadata": {},
   "outputs": [
    {
     "data": {
      "text/plain": [
       "<matplotlib.axes._subplots.AxesSubplot at 0x182ca621f88>"
      ]
     },
     "execution_count": 26,
     "metadata": {},
     "output_type": "execute_result"
    },
    {
     "data": {
      "image/png": "[encoded data removed]",
      "text/plain": [
       "<Figure size 432x288 with 1 Axes>"
      ]
     },
     "metadata": {
      "needs_background": "light"
     },
     "output_type": "display_data"
    }
   ],
   "source": [
    "d5['Store_type'].value_counts().plot(kind='bar')"
   ]
  },
  {
   "cell_type": "code",
   "execution_count": 27,
   "metadata": {},
   "outputs": [
    {
     "data": {
      "text/plain": [
       "<matplotlib.axes._subplots.AxesSubplot at 0x182ca696f88>"
      ]
     },
     "execution_count": 27,
     "metadata": {},
     "output_type": "execute_result"
    },
    {
     "data": {
      "image/png": "[encoded data removed]",
      "text/plain": [
       "<Figure size 432x288 with 1 Axes>"
      ]
     },
     "metadata": {
      "needs_background": "light"
     },
     "output_type": "display_data"
    }
   ],
   "source": [
    "d5['prod_cat'].value_counts().plot(kind='bar')\n"
   ]
  },
  {
   "cell_type": "code",
   "execution_count": 28,
   "metadata": {},
   "outputs": [
    {
     "data": {
      "text/plain": [
       "<matplotlib.axes._subplots.AxesSubplot at 0x182ca71aec8>"
      ]
     },
     "execution_count": 28,
     "metadata": {},
     "output_type": "execute_result"
    },
    {
     "data": {
      "image/png": "[encoded data removed]",
      "text/plain": [
       "<Figure size 432x288 with 1 Axes>"
      ]
     },
     "metadata": {
      "needs_background": "light"
     },
     "output_type": "display_data"
    }
   ],
   "source": [
    "d5['prod_subcat'].value_counts().plot(kind='bar')"
   ]
  },
  {
   "cell_type": "code",
   "execution_count": 33,
   "metadata": {},
   "outputs": [
    {
     "data": {
      "text/plain": [
       "'9/9/2013'"
      ]
     },
     "execution_count": 33,
     "metadata": {},
     "output_type": "execute_result"
    }
   ],
   "source": [
    "#a. Time period of the available transaction data\n",
    "Max_Available_Date=d5.tran_date.max()\n",
    "Max_Available_Date\n",
    "#d5 = d5.groupby(d5.tran_date.date).last().reset_index(drop=True)\n",
    "#print (d5)"
   ]
  },
  {
   "cell_type": "code",
   "execution_count": 34,
   "metadata": {},
   "outputs": [
    {
     "data": {
      "text/plain": [
       "customer_Id          9294\n",
       "DOB                  9294\n",
       "Gender               9291\n",
       "city_code            9294\n",
       "transaction_id       9294\n",
       "cust_id              9294\n",
       "tran_date            9294\n",
       "prod_subcat_code     9294\n",
       "prod_cat_code        9294\n",
       "Qty                  9294\n",
       "Rate                 9294\n",
       "Tax                  9294\n",
       "total_amt            9294\n",
       "Store_type           9294\n",
       "_merge               9294\n",
       "prod_cat             9294\n",
       "prod_sub_cat_code    9294\n",
       "prod_subcat          9294\n",
       "dtype: int64"
      ]
     },
     "execution_count": 34,
     "metadata": {},
     "output_type": "execute_result"
    }
   ],
   "source": [
    "#b. Count of transactions where the total amount of transaction was negative\n",
    "d5.loc[(d5.Qty<0)].count()"
   ]
  },
  {
   "cell_type": "code",
   "execution_count": 35,
   "metadata": {},
   "outputs": [],
   "source": [
    "#Q5. Analyze which product categories are more popular among females vs male customers"
   ]
  },
  {
   "cell_type": "code",
   "execution_count": 36,
   "metadata": {},
   "outputs": [
    {
     "name": "stdout",
     "output_type": "stream",
     "text": [
      " Male customers is--- prod_cat\n",
      "Books    39875836.65\n",
      "Name: total_amt, dtype: float64\n",
      "\n",
      "\n",
      "Female customers is--- prod_cat\n",
      "Books    36988153.41\n",
      "Name: total_amt, dtype: float64\n"
     ]
    }
   ],
   "source": [
    "\n",
    "Male = d5.loc[d5['Gender']=='M']\n",
    "group_1 = Male.groupby(['prod_cat'])['total_amt'].sum()\n",
    "product_categories_M = group_1.nlargest(1)#decimals\n",
    "print(' Male customers is---',product_categories_M)\n",
    "print('\\n')\n",
    "Female = d5.loc[d5['Gender']=='F']\n",
    "group_2 =Female.groupby(['prod_cat'])['total_amt'].sum()\n",
    "product_categories_F = group_2.nlargest(1)#decimals\n",
    "print('Female customers is---',product_categories_F)\n",
    "\n"
   ]
  },
  {
   "cell_type": "code",
   "execution_count": 37,
   "metadata": {},
   "outputs": [],
   "source": [
    "#Q6. Which City code has the maximum customers and what was the percentage of customers from that city?"
   ]
  },
  {
   "cell_type": "code",
   "execution_count": 38,
   "metadata": {},
   "outputs": [
    {
     "name": "stdout",
     "output_type": "stream",
     "text": [
      "Maximum customers of city-- \n",
      " 3.0    595\n",
      "Name: city_code, dtype: int64\n",
      "customers from the city code 3 has Percentage 10.54 % : \n"
     ]
    }
   ],
   "source": [
    "maximum_customers = d1['city_code'].value_counts()\n",
    "\n",
    "true = maximum_customers.nlargest(1)#decimals\n",
    "\n",
    "print(\"Maximum customers of city-- \\n\",true)\n",
    "\n",
    "total_customer = d1['customer_Id'].count()\n",
    "\n",
    "per = round((595/total_customer)*100,2)\n",
    "\n",
    "print(\"customers from the city code 3 has Percentage {} % : \".format(per))"
   ]
  },
  {
   "cell_type": "code",
   "execution_count": 39,
   "metadata": {},
   "outputs": [
    {
     "data": {
      "text/html": [
       "<div>\n",
       "<style scoped>\n",
       "    .dataframe tbody tr th:only-of-type {\n",
       "        vertical-align: middle;\n",
       "    }\n",
       "\n",
       "    .dataframe tbody tr th {\n",
       "        vertical-align: top;\n",
       "    }\n",
       "\n",
       "    .dataframe thead th {\n",
       "        text-align: right;\n",
       "    }\n",
       "</style>\n",
       "<table border=\"1\" class=\"dataframe\">\n",
       "  <thead>\n",
       "    <tr style=\"text-align: right;\">\n",
       "      <th></th>\n",
       "      <th>city_code</th>\n",
       "      <th>Numberofpeople</th>\n",
       "      <th>perc</th>\n",
       "    </tr>\n",
       "  </thead>\n",
       "  <tbody>\n",
       "    <tr>\n",
       "      <th>0</th>\n",
       "      <td>1.0</td>\n",
       "      <td>9717</td>\n",
       "      <td>9.789738</td>\n",
       "    </tr>\n",
       "    <tr>\n",
       "      <th>1</th>\n",
       "      <td>2.0</td>\n",
       "      <td>9843</td>\n",
       "      <td>9.916681</td>\n",
       "    </tr>\n",
       "    <tr>\n",
       "      <th>2</th>\n",
       "      <td>3.0</td>\n",
       "      <td>10467</td>\n",
       "      <td>10.545352</td>\n",
       "    </tr>\n",
       "    <tr>\n",
       "      <th>3</th>\n",
       "      <td>4.0</td>\n",
       "      <td>10571</td>\n",
       "      <td>10.650130</td>\n",
       "    </tr>\n",
       "    <tr>\n",
       "      <th>4</th>\n",
       "      <td>5.0</td>\n",
       "      <td>10116</td>\n",
       "      <td>10.191725</td>\n",
       "    </tr>\n",
       "    <tr>\n",
       "      <th>5</th>\n",
       "      <td>6.0</td>\n",
       "      <td>9130</td>\n",
       "      <td>9.198344</td>\n",
       "    </tr>\n",
       "    <tr>\n",
       "      <th>6</th>\n",
       "      <td>7.0</td>\n",
       "      <td>10258</td>\n",
       "      <td>10.334787</td>\n",
       "    </tr>\n",
       "    <tr>\n",
       "      <th>7</th>\n",
       "      <td>8.0</td>\n",
       "      <td>9965</td>\n",
       "      <td>10.039594</td>\n",
       "    </tr>\n",
       "    <tr>\n",
       "      <th>8</th>\n",
       "      <td>9.0</td>\n",
       "      <td>9214</td>\n",
       "      <td>9.282972</td>\n",
       "    </tr>\n",
       "    <tr>\n",
       "      <th>9</th>\n",
       "      <td>10.0</td>\n",
       "      <td>9976</td>\n",
       "      <td>10.050677</td>\n",
       "    </tr>\n",
       "  </tbody>\n",
       "</table>\n",
       "</div>"
      ],
      "text/plain": [
       "   city_code  Numberofpeople       perc\n",
       "0        1.0            9717   9.789738\n",
       "1        2.0            9843   9.916681\n",
       "2        3.0           10467  10.545352\n",
       "3        4.0           10571  10.650130\n",
       "4        5.0           10116  10.191725\n",
       "5        6.0            9130   9.198344\n",
       "6        7.0           10258  10.334787\n",
       "7        8.0            9965  10.039594\n",
       "8        9.0            9214   9.282972\n",
       "9       10.0            9976  10.050677"
      ]
     },
     "execution_count": 39,
     "metadata": {},
     "output_type": "execute_result"
    }
   ],
   "source": [
    "\n",
    "total = d5.groupby([\"city_code\"]).size().reset_index(name='Numberofpeople')\n",
    "\n",
    "total['perc']= (total.Numberofpeople/total.Numberofpeople.sum())*100\n",
    "total"
   ]
  },
  {
   "cell_type": "code",
   "execution_count": 40,
   "metadata": {},
   "outputs": [],
   "source": [
    "#Q7. Which store type sells the maximum products by value and by quantity?¶"
   ]
  },
  {
   "cell_type": "code",
   "execution_count": 41,
   "metadata": {},
   "outputs": [
    {
     "name": "stderr",
     "output_type": "stream",
     "text": [
      "C:\\Users\\Yash\\anaconda3\\lib\\site-packages\\ipykernel_launcher.py:1: FutureWarning: Indexing with multiple keys (implicitly converted to a tuple of keys) will be deprecated, use a list instead.\n",
      "  \"\"\"Entry point for launching an IPython kernel.\n"
     ]
    },
    {
     "data": {
      "text/html": [
       "<div>\n",
       "<style scoped>\n",
       "    .dataframe tbody tr th:only-of-type {\n",
       "        vertical-align: middle;\n",
       "    }\n",
       "\n",
       "    .dataframe tbody tr th {\n",
       "        vertical-align: top;\n",
       "    }\n",
       "\n",
       "    .dataframe thead th {\n",
       "        text-align: right;\n",
       "    }\n",
       "</style>\n",
       "<table border=\"1\" class=\"dataframe\">\n",
       "  <thead>\n",
       "    <tr style=\"text-align: right;\">\n",
       "      <th></th>\n",
       "      <th>Qty</th>\n",
       "      <th>total_amt</th>\n",
       "    </tr>\n",
       "    <tr>\n",
       "      <th>Store_type</th>\n",
       "      <th></th>\n",
       "      <th></th>\n",
       "    </tr>\n",
       "  </thead>\n",
       "  <tbody>\n",
       "    <tr>\n",
       "      <th>e-Shop</th>\n",
       "      <td>98447</td>\n",
       "      <td>8.591575e+07</td>\n",
       "    </tr>\n",
       "    <tr>\n",
       "      <th>MBR</th>\n",
       "      <td>48285</td>\n",
       "      <td>4.170033e+07</td>\n",
       "    </tr>\n",
       "    <tr>\n",
       "      <th>Flagship store</th>\n",
       "      <td>48007</td>\n",
       "      <td>4.188397e+07</td>\n",
       "    </tr>\n",
       "    <tr>\n",
       "      <th>TeleShop</th>\n",
       "      <td>47339</td>\n",
       "      <td>4.046656e+07</td>\n",
       "    </tr>\n",
       "  </tbody>\n",
       "</table>\n",
       "</div>"
      ],
      "text/plain": [
       "                  Qty     total_amt\n",
       "Store_type                         \n",
       "e-Shop          98447  8.591575e+07\n",
       "MBR             48285  4.170033e+07\n",
       "Flagship store  48007  4.188397e+07\n",
       "TeleShop        47339  4.046656e+07"
      ]
     },
     "execution_count": 41,
     "metadata": {},
     "output_type": "execute_result"
    }
   ],
   "source": [
    "total1 = d5.groupby('Store_type')['Qty','total_amt'].sum()\n",
    "total1.idxmax(axis=1)\n",
    "total1.sort_values(by='Qty', ascending=False)"
   ]
  },
  {
   "cell_type": "raw",
   "metadata": {},
   "source": [
    "#Q8. What was the total amount earned from the \"Electronics\" and \"Clothing\" categories from Flagship Stores?"
   ]
  },
  {
   "cell_type": "code",
   "execution_count": 42,
   "metadata": {},
   "outputs": [
    {
     "data": {
      "text/plain": [
       "14658949.890000034"
      ]
     },
     "execution_count": 42,
     "metadata": {},
     "output_type": "execute_result"
    }
   ],
   "source": [
    "#. What was the total amount earned from the \"Electronics\" and \"Clothing\" categories from Flagship Stores? \n",
    "\n",
    "total2=d5.loc[((d5.Store_type=='Flagship store') & ((d5.prod_cat == 'Electronics') | (d5.prod_cat == 'Clothing')))]\n",
    "total2.groupby('prod_cat').sum().total_amt.sum()\n"
   ]
  },
  {
   "cell_type": "code",
   "execution_count": 43,
   "metadata": {},
   "outputs": [],
   "source": [
    "#Q9. What was the total amount earned from \"Male\" customers under the \"Electronics\" category?¶"
   ]
  },
  {
   "cell_type": "code",
   "execution_count": 44,
   "metadata": {},
   "outputs": [
    {
     "data": {
      "text/plain": [
       "28515547.125"
      ]
     },
     "execution_count": 44,
     "metadata": {},
     "output_type": "execute_result"
    }
   ],
   "source": [
    "total3=d5[(d5.Gender == 'M')&(d5.prod_cat==\"Electronics\")]\n",
    "total3.total_amt.sum()"
   ]
  },
  {
   "cell_type": "code",
   "execution_count": 45,
   "metadata": {},
   "outputs": [],
   "source": [
    "#Q10. How many customers have more than 10 unique transactions, after removing all transactions which have any negative amounts?"
   ]
  },
  {
   "cell_type": "code",
   "execution_count": 46,
   "metadata": {},
   "outputs": [
    {
     "data": {
      "text/plain": [
       "20876"
      ]
     },
     "execution_count": 46,
     "metadata": {},
     "output_type": "execute_result"
    }
   ],
   "source": [
    "dfinal = d5[(d5.total_amt > 0)]\n",
    "ts = dfinal.transaction_id.nunique()\n",
    "ts\n"
   ]
  },
  {
   "cell_type": "code",
   "execution_count": 47,
   "metadata": {},
   "outputs": [
    {
     "name": "stdout",
     "output_type": "stream",
     "text": [
      "Total amount spent 38905651.06999999\n"
     ]
    }
   ],
   "source": [
    "# For all customers aged between 25 - 35, find out:   \n",
    "#a. What was the total amount spent for “Electronics” and “Books” product categories?   \n",
    "#b. What was the total amount spent by these customers between 1st Jan, 2014 to 1st Mar, 2014?\n",
    "\n",
    "Yearly = pd.to_datetime('today').year\n",
    "DOB = pd.DatetimeIndex(d5['DOB']).year\n",
    "test_1 = DOB-100                                              \n",
    "test_2 = Yearly - test_1\n",
    "test_3 = Yearly - DOB\n",
    "d5['age'] = (np.where(DOB > Yearly,test_2,test_3))\n",
    "d5\n",
    "\n",
    "total = d5.loc[((d5.age >25) & (d5.age <35)) & ((d5.prod_cat=='Books') | (d5.prod_cat=='Electronics'))]['total_amt'].sum()\n",
    "print('Total amount spent',total)\n",
    "\n",
    "\n",
    "\n"
   ]
  },
  {
   "cell_type": "code",
   "execution_count": 48,
   "metadata": {},
   "outputs": [
    {
     "name": "stdout",
     "output_type": "stream",
     "text": [
      "Total amount spent by the customer -  5591225.965\n"
     ]
    }
   ],
   "source": [
    "d5['tran_date'] = pd.to_datetime(d5['tran_date'])\n",
    "\n",
    "total_date = d5[(d5['tran_date'] > '2014-01-01') & (d5['tran_date'] < '2014-03-01')]\n",
    "amount = total_date.total_amt.sum()\n",
    "print('Total amount spent by the customer - ',amount)"
   ]
  },
  {
   "cell_type": "code",
   "execution_count": null,
   "metadata": {},
   "outputs": [],
   "source": []
  },
  {
   "cell_type": "code",
   "execution_count": null,
   "metadata": {},
   "outputs": [],
   "source": []
  },
  {
   "cell_type": "code",
   "execution_count": null,
   "metadata": {},
   "outputs": [],
   "source": []
  }
 ],
 "metadata": {
  "kernelspec": {
   "display_name": "Python 3",
   "language": "python",
   "name": "python3"
  },
  "language_info": {
   "codemirror_mode": {
    "name": "ipython",
    "version": 3
   },
   "file_extension": ".py",
   "mimetype": "text/x-python",
   "name": "python",
   "nbconvert_exporter": "python",
   "pygments_lexer": "ipython3",
   "version": "3.7.6"
  }
 },
 "nbformat": 4,
 "nbformat_minor": 2
}
